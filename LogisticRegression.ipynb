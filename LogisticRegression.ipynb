{
 "cells": [
  {
   "cell_type": "code",
   "execution_count": 2,
   "metadata": {},
   "outputs": [],
   "source": [
    "import pandas as pd\n",
    "import csv\n",
    "import numpy as np"
   ]
  },
  {
   "cell_type": "code",
   "execution_count": 3,
   "metadata": {},
   "outputs": [],
   "source": [
    "import matplotlib.pyplot as plt"
   ]
  },
  {
   "cell_type": "code",
   "execution_count": 4,
   "metadata": {},
   "outputs": [],
   "source": [
    "def load_csv():\n",
    "    with open(\"inp.txt\",\"r\") as csvfile:\n",
    "        lines=csv.reader(csvfile)\n",
    "        data=list(lines)\n",
    "        for i in range(len(data)):\n",
    "            data[i]=[float(x) for x in data[i]]\n",
    "    return np.array(data)\n",
    "        "
   ]
  },
  {
   "cell_type": "code",
   "execution_count": 14,
   "metadata": {},
   "outputs": [],
   "source": [
    "def norm(x):\n",
    "    min_x=np.min(x)\n",
    "    max_x=np.max(x)\n",
    "    rng=max_x-min_x\n",
    "    norm_x=1-((max_x-x)/rng)\n",
    "    return norm_x\n",
    "\n"
   ]
  },
  {
   "cell_type": "code",
   "execution_count": 16,
   "metadata": {},
   "outputs": [],
   "source": [
    "def log_func(x,beta):\n",
    "    return (1.0/(1+np.exp(-np.dot(x,beta.T))))"
   ]
  },
  {
   "cell_type": "code",
   "execution_count": 45,
   "metadata": {},
   "outputs": [],
   "source": [
    "def diffrential_costfunc(x,y,beta):\n",
    "    first_calc=log_func(x,beta)-y.reshape(x.shape[0],-1)\n",
    "    final_calc=np.dot(first_calc.T,x)\n",
    "    return final_calc"
   ]
  },
  {
   "cell_type": "code",
   "execution_count": 46,
   "metadata": {},
   "outputs": [],
   "source": [
    "def cost_func(x,y,beta):\n",
    "    log_func_v=log_func(x,beta)\n",
    "    y=np.squeeze(y)\n",
    "    step1=y*np.log(log_func_v)\n",
    "    step2=y*np.log(log_func_v)\n",
    "    final=-step1-step2\n",
    "    return np.mean(final)"
   ]
  },
  {
   "cell_type": "code",
   "execution_count": 47,
   "metadata": {},
   "outputs": [],
   "source": [
    "def grad_desc(x,y,beta,lr=0.01,conv_change=0.001):\n",
    "    cost=cost_func(x,y,beta)\n",
    "    change_cost=1\n",
    "    num_iter=1\n",
    "    while(change_cost>conv_change):\n",
    "        old_cost=cost_func(x,y,beta)\n",
    "        beta=beta-(lr*diffrential_costfunc(x,y,beta))\n",
    "        cost=cost_func(x,y,beta)\n",
    "        change_cost=old_cost-cost\n",
    "        num_iter+=1\n",
    "    return beta,num_iter    "
   ]
  },
  {
   "cell_type": "code",
   "execution_count": 60,
   "metadata": {},
   "outputs": [],
   "source": [
    "def pred_values(beta,x):\n",
    "    pred_prob=log_func(x,beta)\n",
    "    pred_y=np.where(pred_prob>=0.5,1,0)\n",
    "    return np.squeeze(pred_y)"
   ]
  },
  {
   "cell_type": "code",
   "execution_count": 109,
   "metadata": {},
   "outputs": [],
   "source": [
    "def plot_reg(x,y,beta):\n",
    "    x_0=x[np.where(y==0.0)]\n",
    "    x_1=x[np.where(y==1.0)]\n",
    "    plt.scatter([x_0[:,1]],[x_0[:,2]],c='b',label='y=0')\n",
    "    plt.scatter([x_1[:,1]],[x_1[:,2]],c='r',label='y=1')\n",
    "    x1=np.arange(0,1,0.1)\n",
    "    x2=-(beta[0,0]+x1*beta[0,1])/beta[0,2]\n",
    "    plt.plot(x1,x2,c='k',label='reg line')\n",
    "    plt.xlabel('x1')\n",
    "    plt.ylabel('x2')\n",
    "    plt.show()"
   ]
  },
  {
   "cell_type": "code",
   "execution_count": 110,
   "metadata": {},
   "outputs": [],
   "source": [
    "data=load_csv()"
   ]
  },
  {
   "cell_type": "code",
   "execution_count": 111,
   "metadata": {},
   "outputs": [],
   "source": [
    "x=norm(data[:,:-1])"
   ]
  },
  {
   "cell_type": "code",
   "execution_count": 112,
   "metadata": {},
   "outputs": [],
   "source": [
    "x=np.hstack((np.matrix(np.ones(x.shape[0])).T,x))"
   ]
  },
  {
   "cell_type": "code",
   "execution_count": 113,
   "metadata": {},
   "outputs": [],
   "source": [
    "y=data[:,-1]"
   ]
  },
  {
   "cell_type": "code",
   "execution_count": 114,
   "metadata": {},
   "outputs": [],
   "source": [
    "beta=np.matrix(np.zeros(x.shape[1]))"
   ]
  },
  {
   "cell_type": "code",
   "execution_count": 115,
   "metadata": {},
   "outputs": [],
   "source": [
    "beta,num_iter=grad_desc(x,y,beta)"
   ]
  },
  {
   "cell_type": "code",
   "execution_count": 116,
   "metadata": {},
   "outputs": [
    {
     "name": "stdout",
     "output_type": "stream",
     "text": [
      "Estimated coefficient : [[-9.61887002 10.82792102 10.4445626 ]]\n"
     ]
    }
   ],
   "source": [
    "print(\"Estimated coefficient :\",beta)"
   ]
  },
  {
   "cell_type": "code",
   "execution_count": 117,
   "metadata": {},
   "outputs": [
    {
     "name": "stdout",
     "output_type": "stream",
     "text": [
      "number of Iteration: 1681\n"
     ]
    }
   ],
   "source": [
    "print(\"number of Iteration:\",num_iter)"
   ]
  },
  {
   "cell_type": "code",
   "execution_count": 118,
   "metadata": {},
   "outputs": [],
   "source": [
    "pred_y=pred_values(beta,x)"
   ]
  },
  {
   "cell_type": "code",
   "execution_count": 119,
   "metadata": {},
   "outputs": [
    {
     "name": "stdout",
     "output_type": "stream",
     "text": [
      "correctly predict labels 89\n"
     ]
    }
   ],
   "source": [
    "print(\"correctly predict labels\",np.sum(y==pred_y))"
   ]
  },
  {
   "cell_type": "code",
   "execution_count": 120,
   "metadata": {},
   "outputs": [
    {
     "data": {
      "image/png": "[encoded data removed]",
      "text/plain": [
       "<Figure size 432x288 with 1 Axes>"
      ]
     },
     "metadata": {
      "needs_background": "light"
     },
     "output_type": "display_data"
    }
   ],
   "source": [
    "plot_reg(x,y,beta)"
   ]
  },
  {
   "cell_type": "code",
   "execution_count": null,
   "metadata": {},
   "outputs": [],
   "source": []
  },
  {
   "cell_type": "code",
   "execution_count": null,
   "metadata": {},
   "outputs": [],
   "source": []
  },
  {
   "cell_type": "code",
   "execution_count": null,
   "metadata": {},
   "outputs": [],
   "source": []
  },
  {
   "cell_type": "code",
   "execution_count": null,
   "metadata": {},
   "outputs": [],
   "source": []
  }
 ],
 "metadata": {
  "kernelspec": {
   "display_name": "Python 3",
   "language": "python",
   "name": "python3"
  },
  "language_info": {
   "codemirror_mode": {
    "name": "ipython",
    "version": 3
   },
   "file_extension": ".py",
   "mimetype": "text/x-python",
   "name": "python",
   "nbconvert_exporter": "python",
   "pygments_lexer": "ipython3",
   "version": "3.6.8"
  }
 },
 "nbformat": 4,
 "nbformat_minor": 2
}
